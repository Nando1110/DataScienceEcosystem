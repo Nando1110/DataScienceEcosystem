{
 "cells": [
  {
   "cell_type": "markdown",
   "id": "33840ffa-4390-47ba-8606-ae71ad8d86db",
   "metadata": {},
   "source": [
    "# Exercise 2\n",
    "### Create markdown cell with title of the notebook\n",
    "Create a markdown cell with the title <code/>Data Science Tools and Ecosystem</Code>using H1 style heading."
   ]
  },
  {
   "cell_type": "markdown",
   "id": "ac16fe61",
   "metadata": {
    "tags": []
   },
   "source": [
    "# Data Science Tools and Ecosystem"
   ]
  },
  {
   "cell_type": "markdown",
   "id": "42695820-e47f-4e4d-b3a4-af84791aa2bc",
   "metadata": {},
   "source": [
    "# Exercise 3 \n",
    "### Create a markdown cell for an introduction\n",
    "\n",
    "Write an introductory sentence about the notebook such as the follows:\n",
    "\n",
    "<code>In this notebook, Data Science Tools and Ecosystem are summarized.</code>"
   ]
  },
  {
   "cell_type": "markdown",
   "id": "53f8902a-ece7-4e11-87fc-ad7780ca8447",
   "metadata": {},
   "source": [
    "In this notebook, Data Science Tools and Ecosystem are summarized."
   ]
  },
  {
   "cell_type": "markdown",
   "id": "b2f24498-9a73-43c1-a6bf-c2ef6e12ed82",
   "metadata": {},
   "source": [
    "# Exercise 4 \n",
    "### Create a markdown cell to list data science languages\n",
    "\n",
    "Start the cell with an overview line such as:\n",
    "\n",
    "<code>Some of the popular languages that Data Scientists use are:</code>\n",
    "<br>Then create an ordered list (i.e. numbered) listing 3 (or more) commonly used languages for data science."
   ]
  },
  {
   "cell_type": "markdown",
   "id": "b060ac33-977c-44d7-9268-13b9cd920648",
   "metadata": {},
   "source": [
    "Some of the popular languages that Data Scientists use are:\n",
    "1. Python\n",
    "2. R\n",
    "3. SQL"
   ]
  },
  {
   "cell_type": "markdown",
   "id": "82bf10ee-8db0-4c1f-ab62-df633fe13006",
   "metadata": {},
   "source": [
    "# Exercise 5 \n",
    "### Create a markdown cell to list data science libraries\n",
    "\n",
    "Add an overview line to the cell like:\n",
    "\n",
    "<code>Some of the commonly used libraries used by Data Scientists include:</code>\n",
    "<br>Below this line add an ordered list listing 3 (or more) commonly used libraries in data science."
   ]
  },
  {
   "cell_type": "markdown",
   "id": "c8237f60-f654-4299-919f-6624dd4685f9",
   "metadata": {},
   "source": [
    "Some of the commonly used libraries used by Data Scientists include:\n",
    "1. Pandas\n",
    "2. Numpy\n",
    "3. Apache Spark\n",
    "4. Scala"
   ]
  },
  {
   "cell_type": "markdown",
   "id": "b6018740-ad21-4b29-a753-e5e72efccfdb",
   "metadata": {},
   "source": [
    "# Exercise 6 \n",
    "### Create a markdown cell with a table of Data Science tools\n",
    "\n",
    "Create a single column table in this cell with the first row containing the header <code>Data Science Tools</code>. The subsequent three rows in the table should indicate three development environment open source tools used in data science."
   ]
  },
  {
   "cell_type": "markdown",
   "id": "d7b82751-74db-4196-8635-660453662505",
   "metadata": {},
   "source": [
    "|Data Science Tools|\n",
    "|------------------|\n",
    "|Apache Hadoop|\n",
    "|Power BI|\n",
    "|Jupyter Notebook|"
   ]
  },
  {
   "cell_type": "markdown",
   "id": "19f85e27-e7fc-4b4b-8904-8037df06a98d",
   "metadata": {},
   "source": [
    "# Exercise 7 \n",
    "### Create a markdown cell introducing arithmetic expression examples\n",
    "\n",
    "Add a line in this cell with H3 style heading with text like:\n",
    "<br><code>Below are a few examples of evaluating arithmetic expressions in Python.</code>"
   ]
  },
  {
   "cell_type": "markdown",
   "id": "8c2160ae-3bb6-4864-8f02-9ea517b07011",
   "metadata": {},
   "source": [
    "### Below are a few examples of evaluating arithmetic expressions in Python."
   ]
  },
  {
   "cell_type": "markdown",
   "id": "5ccd1d21-8b20-4006-9756-2bbbd8803af1",
   "metadata": {},
   "source": [
    "# Exercise 8\n",
    "### Create a code cell to multiply and add numbers\n",
    "\n",
    "In this code cell evaluate the expression <code>(3*4)+5</code>.\n",
    "<br>Insert a comment line before the expression to explain the operation e.g. <code>This a simple arithmetic expression to mutiply then add integers.</code>\n",
    "<br>Then execute the cell to ensure the expression returns the expected output of <code>17</code>."
   ]
  },
  {
   "cell_type": "code",
   "execution_count": 2,
   "id": "2d3f9178-1753-4d9e-9ff3-f04814c16651",
   "metadata": {},
   "outputs": [
    {
     "data": {
      "text/plain": [
       "17"
      ]
     },
     "execution_count": 2,
     "metadata": {},
     "output_type": "execute_result"
    }
   ],
   "source": [
    "#This a simple arithmetic expression to mutiply then add integers.\n",
    "(3*4)+5"
   ]
  },
  {
   "cell_type": "markdown",
   "id": "f02fa418-4404-4c29-92a3-2fa3e6fd643e",
   "metadata": {},
   "source": [
    "# Exercise 9\n",
    "### Create a code cell to convert minutes to hours\n",
    "\n",
    "In this code cell write an expression that converts <code>200 minutes</code> into <code>hours</code>.\n",
    "<br>Insert a comment line before the expression to explain the operation e.g. <code>This will convert 200 minutes to hours by diving by 60</code>.\n",
    "<br>Run the cell to evaluate the expression."
   ]
  },
  {
   "cell_type": "code",
   "execution_count": 3,
   "id": "69ec7be3-5a90-4609-9fde-548dd3334df1",
   "metadata": {},
   "outputs": [
    {
     "data": {
      "text/plain": [
       "3.3333333333333335"
      ]
     },
     "execution_count": 3,
     "metadata": {},
     "output_type": "execute_result"
    }
   ],
   "source": [
    "#This will convert 200 minutes to hours by diving by 60\n",
    "200/60"
   ]
  },
  {
   "cell_type": "markdown",
   "id": "d0699e35-a8a5-4f62-a0e3-8ee4ce5e1780",
   "metadata": {},
   "source": [
    "# Exercise 10 \n",
    "### Insert a markdown cell to list Objectives\n",
    "\n",
    "Below the introduction cell created in Exercise 3, insert a new markdown cell to list the objectives that this notebook covered (i.e. some of the key takeaways from the course). In this new cell start with an introductory line titled: <code>Objectives:</code> in bold font. Then using an <code>unordered list</code> (bullets) indicate 3 to 5 items covered in this notebook, such as <code>List popular languages for Data Science</code>."
   ]
  },
  {
   "cell_type": "markdown",
   "id": "a561ffa2-7dce-4b50-af33-bca26f62a148",
   "metadata": {},
   "source": [
    "In this notebook, Data Science Tools and Ecosystem are summarized."
   ]
  },
  {
   "cell_type": "markdown",
   "id": "adde9539-0cb7-4b94-a3e8-c3938b74c938",
   "metadata": {},
   "source": [
    "__Objectives:__\n",
    "* List popular languages for Data Science\n",
    "* List popular libraries for Data Science\n",
    "* List of Well known Data Science Tools\n",
    "* How to Provide comments in the cell"
   ]
  },
  {
   "cell_type": "markdown",
   "id": "4f7a9398-5131-4673-bb08-9656ae871563",
   "metadata": {},
   "source": [
    "# Exercise 11 \n",
    "### Create a markdown cell to indicate the Author's name\n",
    "\n",
    "In this markdown cell markdown cell include the following text <code>Author</code> in <code>H2 style heading</code>. Include your <code>name</code> as regular text below the word <code>Author</code>."
   ]
  },
  {
   "cell_type": "markdown",
   "id": "4490b2d8-7819-4b4d-b6c0-e983bf6ecdb9",
   "metadata": {},
   "source": [
    "## Author\n",
    "Fernando Samuel"
   ]
  }
 ],
 "metadata": {
  "kernelspec": {
   "display_name": "Python 3 (ipykernel)",
   "language": "python",
   "name": "python3"
  },
  "language_info": {
   "codemirror_mode": {
    "name": "ipython",
    "version": 3
   },
   "file_extension": ".py",
   "mimetype": "text/x-python",
   "name": "python",
   "nbconvert_exporter": "python",
   "pygments_lexer": "ipython3",
   "version": "3.9.12"
  }
 },
 "nbformat": 4,
 "nbformat_minor": 5
}
